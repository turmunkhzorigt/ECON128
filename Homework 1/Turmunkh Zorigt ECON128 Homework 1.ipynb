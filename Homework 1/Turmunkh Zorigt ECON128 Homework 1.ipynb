{
 "cells": [
  {
   "cell_type": "code",
   "execution_count": 4,
   "metadata": {
    "collapsed": false
   },
   "outputs": [],
   "source": [
    "#!pip install brewer2mpl\n",
    "from numpy import *\n",
    "\n",
    "%matplotlib inline\n",
    "from urllib import urlopen\n",
    "\n",
    "import pandas as pd\n",
    "import numpy as np\n",
    "import matplotlib.pyplot as plt"
   ]
  },
  {
   "cell_type": "code",
   "execution_count": 5,
   "metadata": {
    "collapsed": false
   },
   "outputs": [
    {
     "name": "stdout",
     "output_type": "stream",
     "text": [
      "600\n",
      "['id', 'age', 'sex', 'region', 'income', 'married', 'children', 'car', 'save_act', 'current_act', 'mortgage', 'pep']\n"
     ]
    }
   ],
   "source": [
    "df = pd.read_csv('bank-data.csv',sep=',', error_bad_lines=False) #read file as a dataframe\n",
    "\n",
    "print len(df) #print number of rows\n",
    "print list(df) #print 1st ten headers\n",
    "\n"
   ]
  },
  {
   "cell_type": "code",
   "execution_count": 6,
   "metadata": {
    "collapsed": false,
    "scrolled": true
   },
   "outputs": [
    {
     "name": "stdout",
     "output_type": "stream",
     "text": [
      "---Age Summary Statistics---\n"
     ]
    },
    {
     "data": {
      "text/plain": [
       "count    600.000000\n",
       "mean      42.395000\n",
       "std       14.424947\n",
       "min       18.000000\n",
       "25%       30.000000\n",
       "50%       42.000000\n",
       "75%       55.250000\n",
       "max       67.000000\n",
       "Name: age, dtype: float64"
      ]
     },
     "execution_count": 6,
     "metadata": {},
     "output_type": "execute_result"
    }
   ],
   "source": [
    "#Question 1\n",
    "print \"---Age Summary Statistics---\"\n",
    "df['age'].describe()"
   ]
  },
  {
   "cell_type": "code",
   "execution_count": 7,
   "metadata": {
    "collapsed": false
   },
   "outputs": [
    {
     "name": "stdout",
     "output_type": "stream",
     "text": [
      "---Income Summary Statistics---\n"
     ]
    },
    {
     "data": {
      "text/plain": [
       "count      600.000000\n",
       "mean     27524.031217\n",
       "std      12899.468246\n",
       "min       5014.210000\n",
       "25%      17264.500000\n",
       "50%      24925.300000\n",
       "75%      36172.675000\n",
       "max      63130.100000\n",
       "Name: income, dtype: float64"
      ]
     },
     "execution_count": 7,
     "metadata": {},
     "output_type": "execute_result"
    }
   ],
   "source": [
    "print \"---Income Summary Statistics---\"\n",
    "df[\"income\"].describe()"
   ]
  },
  {
   "cell_type": "code",
   "execution_count": 8,
   "metadata": {
    "collapsed": false,
    "scrolled": true
   },
   "outputs": [
    {
     "name": "stdout",
     "output_type": "stream",
     "text": [
      "---Children Summary Statistics---\n"
     ]
    },
    {
     "data": {
      "text/plain": [
       "count    600.000000\n",
       "mean       1.011667\n",
       "std        1.056752\n",
       "min        0.000000\n",
       "25%        0.000000\n",
       "50%        1.000000\n",
       "75%        2.000000\n",
       "max        3.000000\n",
       "Name: children, dtype: float64"
      ]
     },
     "execution_count": 8,
     "metadata": {},
     "output_type": "execute_result"
    }
   ],
   "source": [
    "print \"---Children Summary Statistics---\"\n",
    "df[\"children\"].describe()"
   ]
  },
  {
   "cell_type": "code",
   "execution_count": 9,
   "metadata": {
    "collapsed": false
   },
   "outputs": [
    {
     "name": "stdout",
     "output_type": "stream",
     "text": [
      "---Savings Account Summary Statistics---\n",
      "( key, len(value) ) = ( NO , 186 )\n",
      "( key, len(value) ) = ( YES , 414 )\n"
     ]
    }
   ],
   "source": [
    "print \"---Savings Account Summary Statistics---\"\n",
    "\n",
    "def printCategories(category):\n",
    "    cat_groupby = df.groupby(category)\n",
    "    cat_groupby.head()\n",
    "    for key, value in cat_groupby:\n",
    "        print \"( key, len(value) ) = (\", key, \",\", len(value), \")\"\n",
    "        v=value\n",
    "        \n",
    "printCategories(df['save_act'])"
   ]
  },
  {
   "cell_type": "code",
   "execution_count": 10,
   "metadata": {
    "collapsed": false
   },
   "outputs": [
    {
     "name": "stdout",
     "output_type": "stream",
     "text": [
      "---Region Summary Statistics---\n",
      "( key, len(value) ) = ( INNER_CITY , 269 )\n",
      "( key, len(value) ) = ( RURAL , 96 )\n",
      "( key, len(value) ) = ( SUBURBAN , 62 )\n",
      "( key, len(value) ) = ( TOWN , 173 )\n"
     ]
    }
   ],
   "source": [
    "print \"---Region Summary Statistics---\"\n",
    "printCategories(df['region'])"
   ]
  },
  {
   "cell_type": "code",
   "execution_count": 11,
   "metadata": {
    "collapsed": false
   },
   "outputs": [
    {
     "name": "stdout",
     "output_type": "stream",
     "text": [
      "---Married Summary Statistics---\n",
      "( key, len(value) ) = ( NO , 204 )\n",
      "( key, len(value) ) = ( YES , 396 )\n"
     ]
    }
   ],
   "source": [
    "print \"---Married Summary Statistics---\"\n",
    "printCategories(df['married'])"
   ]
  },
  {
   "cell_type": "code",
   "execution_count": 12,
   "metadata": {
    "collapsed": false,
    "scrolled": true
   },
   "outputs": [
    {
     "name": "stdout",
     "output_type": "stream",
     "text": [
      "---Current Checking Account Summary Statistics---\n",
      "( key, len(value) ) = ( NO , 145 )\n",
      "( key, len(value) ) = ( YES , 455 )\n"
     ]
    }
   ],
   "source": [
    "print \"---Current Checking Account Summary Statistics---\"\n",
    "printCategories(df['current_act'])"
   ]
  },
  {
   "cell_type": "code",
   "execution_count": 13,
   "metadata": {
    "collapsed": false
   },
   "outputs": [
    {
     "name": "stdout",
     "output_type": "stream",
     "text": [
      "---Sex Summary Statistics---\n",
      "( key, len(value) ) = ( FEMALE , 300 )\n",
      "( key, len(value) ) = ( MALE , 300 )\n"
     ]
    }
   ],
   "source": [
    "print \"---Sex Summary Statistics---\"\n",
    "printCategories(df['sex'])"
   ]
  },
  {
   "cell_type": "code",
   "execution_count": 14,
   "metadata": {
    "collapsed": false
   },
   "outputs": [
    {
     "name": "stdout",
     "output_type": "stream",
     "text": [
      "---Car Summary Statistics---\n",
      "( key, len(value) ) = ( NO , 304 )\n",
      "( key, len(value) ) = ( YES , 296 )\n"
     ]
    }
   ],
   "source": [
    "print \"---Car Summary Statistics---\"\n",
    "printCategories(df['car'])"
   ]
  },
  {
   "cell_type": "code",
   "execution_count": 15,
   "metadata": {
    "collapsed": false
   },
   "outputs": [
    {
     "name": "stdout",
     "output_type": "stream",
     "text": [
      "---Mortgage Summary Statistics---\n",
      "( key, len(value) ) = ( NO , 391 )\n",
      "( key, len(value) ) = ( YES , 209 )\n"
     ]
    }
   ],
   "source": [
    "print \"---Mortgage Summary Statistics---\"\n",
    "printCategories(df['mortgage'])"
   ]
  },
  {
   "cell_type": "code",
   "execution_count": 16,
   "metadata": {
    "collapsed": false
   },
   "outputs": [
    {
     "name": "stdout",
     "output_type": "stream",
     "text": [
      "---PEP Summary Stats\n",
      "( key, len(value) ) = ( NO , 326 )\n",
      "( key, len(value) ) = ( YES , 274 )\n"
     ]
    }
   ],
   "source": [
    "print\"---PEP Summary Stats\"\n",
    "printCategories(df['pep'])"
   ]
  },
  {
   "cell_type": "code",
   "execution_count": 17,
   "metadata": {
    "collapsed": false,
    "scrolled": true
   },
   "outputs": [
    {
     "name": "stdout",
     "output_type": "stream",
     "text": [
      "Summary Stats for Age, Children, & Income by Pep\n",
      "                  age    children        income\n",
      "pep                                            \n",
      "NO  count  326.000000  326.000000    326.000000\n",
      "    mean    40.098160    1.067485  24900.953374\n",
      "    std     14.123506    1.195524  11661.123422\n",
      "    min     18.000000    0.000000   5014.210000\n",
      "    25%     27.000000    0.000000  15366.475000\n",
      "    50%     40.000000    0.000000  23105.000000\n",
      "    75%     51.000000    2.000000  31210.900000\n",
      "    max     67.000000    3.000000  61554.600000\n",
      "YES count  274.000000  274.000000    274.000000\n",
      "    mean    45.127737    0.945255  30644.919453\n",
      "    std     14.327991    0.860571  13609.613043\n",
      "    min     18.000000    0.000000   7756.360000\n",
      "    25%     34.000000    0.000000  19639.475000\n",
      "    50%     45.000000    1.000000  28080.050000\n",
      "    75%     58.000000    1.000000  38458.350000\n",
      "    max     67.000000    3.000000  63130.100000\n",
      "\n",
      " There are many difference between people have PEP and those who do not. On average and at the \n",
      "25%, 50%, and 75% percentiles people with PEP have higher incomes and are usually older. Additionally, people \n",
      "with PEP have fewer children on average. Wealthier people may have more resources to have the ability\n",
      "to purchase the PEP, which consequently is correlated with higher incomes, fewer children, and being older.\n",
      "\n"
     ]
    }
   ],
   "source": [
    "#Question 2\n",
    "pep_groupby = df.groupby('pep') #collapse data based on pep\n",
    "print(\"Summary Stats for Age, Children, & Income by Pep\")\n",
    "print pep_groupby.describe()\n",
    "\n",
    "print \"\"\"\\n There are many difference between people have PEP and those who do not. On average and at the \n",
    "25%, 50%, and 75% percentiles people with PEP have higher incomes and are usually older. Additionally, people \n",
    "with PEP have fewer children on average. Wealthier people may have more resources to have the ability\n",
    "to purchase the PEP, which consequently is correlated with higher incomes, fewer children, and being older.\n",
    "\"\"\""
   ]
  },
  {
   "cell_type": "code",
   "execution_count": 18,
   "metadata": {
    "collapsed": false
   },
   "outputs": [
    {
     "name": "stdout",
     "output_type": "stream",
     "text": [
      "Summary Stats for Region by Pep\n"
     ]
    },
    {
     "data": {
      "text/plain": [
       "pep        \n",
       "NO   count            326\n",
       "     unique             4\n",
       "     top       INNER_CITY\n",
       "     freq             146\n",
       "YES  count            274\n",
       "     unique             4\n",
       "     top       INNER_CITY\n",
       "     freq             123\n",
       "dtype: object"
      ]
     },
     "execution_count": 18,
     "metadata": {},
     "output_type": "execute_result"
    }
   ],
   "source": [
    "pep_df = pep_groupby['region'].describe()\n",
    "print(\"Summary Stats for Region by Pep\")\n",
    "pep_df.head(20)"
   ]
  },
  {
   "cell_type": "code",
   "execution_count": 19,
   "metadata": {
    "collapsed": false
   },
   "outputs": [
    {
     "name": "stdout",
     "output_type": "stream",
     "text": [
      "Summary Stats for Married by Pep\n"
     ]
    },
    {
     "data": {
      "text/plain": [
       "pep        \n",
       "NO   count     326\n",
       "     unique      2\n",
       "     top       YES\n",
       "     freq      242\n",
       "YES  count     274\n",
       "     unique      2\n",
       "     top       YES\n",
       "     freq      154\n",
       "dtype: object"
      ]
     },
     "execution_count": 19,
     "metadata": {},
     "output_type": "execute_result"
    }
   ],
   "source": [
    "pep_df = pep_groupby['married'].describe()\n",
    "print(\"Summary Stats for Married by Pep\")\n",
    "pep_df.head(20)"
   ]
  },
  {
   "cell_type": "code",
   "execution_count": 20,
   "metadata": {
    "collapsed": false
   },
   "outputs": [
    {
     "name": "stdout",
     "output_type": "stream",
     "text": [
      "Summary Stats for Car by Pep\n"
     ]
    },
    {
     "data": {
      "text/plain": [
       "pep        \n",
       "NO   count     326\n",
       "     unique      2\n",
       "     top        NO\n",
       "     freq      168\n",
       "YES  count     274\n",
       "     unique      2\n",
       "     top       YES\n",
       "     freq      138\n",
       "dtype: object"
      ]
     },
     "execution_count": 20,
     "metadata": {},
     "output_type": "execute_result"
    }
   ],
   "source": [
    "pep_df = pep_groupby['car'].describe()\n",
    "print(\"Summary Stats for Car by Pep\")\n",
    "pep_df.head(20)"
   ]
  },
  {
   "cell_type": "code",
   "execution_count": 21,
   "metadata": {
    "collapsed": false
   },
   "outputs": [
    {
     "name": "stdout",
     "output_type": "stream",
     "text": [
      "Summary Stats for Mortgage by Pep\n"
     ]
    },
    {
     "data": {
      "text/plain": [
       "pep        \n",
       "NO   count     326\n",
       "     unique      2\n",
       "     top        NO\n",
       "     freq      209\n",
       "YES  count     274\n",
       "     unique      2\n",
       "     top        NO\n",
       "     freq      182\n",
       "dtype: object"
      ]
     },
     "execution_count": 21,
     "metadata": {},
     "output_type": "execute_result"
    }
   ],
   "source": [
    "pep_df = pep_groupby['mortgage'].describe()\n",
    "print(\"Summary Stats for Mortgage by Pep\")\n",
    "pep_df.head(20)"
   ]
  },
  {
   "cell_type": "code",
   "execution_count": 22,
   "metadata": {
    "collapsed": false
   },
   "outputs": [
    {
     "name": "stdout",
     "output_type": "stream",
     "text": [
      "Summary Stats for Savings Account by Pep\n"
     ]
    },
    {
     "data": {
      "text/plain": [
       "pep        \n",
       "NO   count     326\n",
       "     unique      2\n",
       "     top       YES\n",
       "     freq      235\n",
       "YES  count     274\n",
       "     unique      2\n",
       "     top       YES\n",
       "     freq      179\n",
       "dtype: object"
      ]
     },
     "execution_count": 22,
     "metadata": {},
     "output_type": "execute_result"
    }
   ],
   "source": [
    "pep_df = pep_groupby['save_act'].describe()\n",
    "print(\"Summary Stats for Savings Account by Pep\")\n",
    "pep_df.head(20)"
   ]
  },
  {
   "cell_type": "code",
   "execution_count": 23,
   "metadata": {
    "collapsed": false
   },
   "outputs": [
    {
     "name": "stdout",
     "output_type": "stream",
     "text": [
      "Summary Stats for Current Checking Account by Pep\n"
     ]
    },
    {
     "data": {
      "text/plain": [
       "pep        \n",
       "NO   count     326\n",
       "     unique      2\n",
       "     top       YES\n",
       "     freq      244\n",
       "YES  count     274\n",
       "     unique      2\n",
       "     top       YES\n",
       "     freq      211\n",
       "dtype: object"
      ]
     },
     "execution_count": 23,
     "metadata": {},
     "output_type": "execute_result"
    }
   ],
   "source": [
    "pep_df = pep_groupby['current_act'].describe()\n",
    "print(\"Summary Stats for Current Checking Account by Pep\")\n",
    "pep_df.head(20)"
   ]
  },
  {
   "cell_type": "code",
   "execution_count": 24,
   "metadata": {
    "collapsed": false
   },
   "outputs": [
    {
     "name": "stdout",
     "output_type": "stream",
     "text": [
      "Summary Stats for Sex by Pep\n"
     ]
    },
    {
     "data": {
      "text/plain": [
       "pep        \n",
       "NO   count        326\n",
       "     unique         2\n",
       "     top       FEMALE\n",
       "     freq         170\n",
       "YES  count        274\n",
       "     unique         2\n",
       "     top         MALE\n",
       "     freq         144\n",
       "dtype: object"
      ]
     },
     "execution_count": 24,
     "metadata": {},
     "output_type": "execute_result"
    }
   ],
   "source": [
    "pep_df = pep_groupby['sex'].describe()\n",
    "print(\"Summary Stats for Sex by Pep\")\n",
    "pep_df.head(20)"
   ]
  },
  {
   "cell_type": "code",
   "execution_count": 27,
   "metadata": {
    "collapsed": false,
    "scrolled": true
   },
   "outputs": [
    {
     "name": "stdout",
     "output_type": "stream",
     "text": [
      "People who are young: 209\n",
      "People who are mid-age: 367\n",
      "People who are old: 24\n",
      "The age group with the most people are middle age, followed by young, and then old. There are very few peoplewho are old with the PEP, maybe because they have already have a plan with a different company. More middle-aged people have the PEP than people who are young, maybe because they have more income.\n"
     ]
    }
   ],
   "source": [
    "#Question 3\n",
    "#Make a new variable that categorizes people into young, mid-age, and old based on age \n",
    "\n",
    "age_category = []\n",
    "Young_Count=0\n",
    "Mid_Age=0\n",
    "Old=0\n",
    "\n",
    "#identify age category of each person, and add it to age_category\n",
    "for person in df.age:\n",
    "    if person<=35:\n",
    "        age_category.append(\"young\")\n",
    "        Young_Count+=1\n",
    "    elif person>35 and person<=65:\n",
    "        age_category.append(\"mid-age\")\n",
    "        Mid_Age+=1\n",
    "    else:\n",
    "        age_category.append(\"old\")\n",
    "        Old+=1\n",
    "print(\"People who are young: \"+str(Young_Count))\n",
    "print(\"People who are mid-age: \"+str(Mid_Age))\n",
    "print(\"People who are old: \"+str(Old))\n",
    "print(\"The age group with the most people are middle age, followed by young, and then old. There are very few people\\\n",
    "who are old with the PEP, maybe because they have already have a plan with a different company. More middle-aged people\\\n",
    " have the PEP than people who are young, maybe because they have more income.\")"
   ]
  },
  {
   "cell_type": "code",
   "execution_count": 28,
   "metadata": {
    "collapsed": false
   },
   "outputs": [
    {
     "data": {
      "text/plain": [
       "600"
      ]
     },
     "execution_count": 28,
     "metadata": {},
     "output_type": "execute_result"
    }
   ],
   "source": [
    "len(age_category) #checking length of list matches the dataframe"
   ]
  },
  {
   "cell_type": "code",
   "execution_count": 29,
   "metadata": {
    "collapsed": false,
    "scrolled": false
   },
   "outputs": [
    {
     "data": {
      "text/html": [
       "<div>\n",
       "<table border=\"1\" class=\"dataframe\">\n",
       "  <thead>\n",
       "    <tr style=\"text-align: right;\">\n",
       "      <th></th>\n",
       "      <th>id</th>\n",
       "      <th>age</th>\n",
       "      <th>sex</th>\n",
       "      <th>region</th>\n",
       "      <th>income</th>\n",
       "      <th>married</th>\n",
       "      <th>children</th>\n",
       "      <th>car</th>\n",
       "      <th>save_act</th>\n",
       "      <th>current_act</th>\n",
       "      <th>mortgage</th>\n",
       "      <th>pep</th>\n",
       "      <th>age_series</th>\n",
       "    </tr>\n",
       "  </thead>\n",
       "  <tbody>\n",
       "    <tr>\n",
       "      <th>0</th>\n",
       "      <td>ID12101</td>\n",
       "      <td>48</td>\n",
       "      <td>FEMALE</td>\n",
       "      <td>INNER_CITY</td>\n",
       "      <td>17546.0</td>\n",
       "      <td>NO</td>\n",
       "      <td>1</td>\n",
       "      <td>NO</td>\n",
       "      <td>NO</td>\n",
       "      <td>NO</td>\n",
       "      <td>NO</td>\n",
       "      <td>YES</td>\n",
       "      <td>mid-age</td>\n",
       "    </tr>\n",
       "    <tr>\n",
       "      <th>1</th>\n",
       "      <td>ID12102</td>\n",
       "      <td>40</td>\n",
       "      <td>MALE</td>\n",
       "      <td>TOWN</td>\n",
       "      <td>30085.1</td>\n",
       "      <td>YES</td>\n",
       "      <td>3</td>\n",
       "      <td>YES</td>\n",
       "      <td>NO</td>\n",
       "      <td>YES</td>\n",
       "      <td>YES</td>\n",
       "      <td>NO</td>\n",
       "      <td>mid-age</td>\n",
       "    </tr>\n",
       "    <tr>\n",
       "      <th>2</th>\n",
       "      <td>ID12103</td>\n",
       "      <td>51</td>\n",
       "      <td>FEMALE</td>\n",
       "      <td>INNER_CITY</td>\n",
       "      <td>16575.4</td>\n",
       "      <td>YES</td>\n",
       "      <td>0</td>\n",
       "      <td>YES</td>\n",
       "      <td>YES</td>\n",
       "      <td>YES</td>\n",
       "      <td>NO</td>\n",
       "      <td>NO</td>\n",
       "      <td>mid-age</td>\n",
       "    </tr>\n",
       "    <tr>\n",
       "      <th>3</th>\n",
       "      <td>ID12104</td>\n",
       "      <td>23</td>\n",
       "      <td>FEMALE</td>\n",
       "      <td>TOWN</td>\n",
       "      <td>20375.4</td>\n",
       "      <td>YES</td>\n",
       "      <td>3</td>\n",
       "      <td>NO</td>\n",
       "      <td>NO</td>\n",
       "      <td>YES</td>\n",
       "      <td>NO</td>\n",
       "      <td>NO</td>\n",
       "      <td>young</td>\n",
       "    </tr>\n",
       "    <tr>\n",
       "      <th>4</th>\n",
       "      <td>ID12105</td>\n",
       "      <td>57</td>\n",
       "      <td>FEMALE</td>\n",
       "      <td>RURAL</td>\n",
       "      <td>50576.3</td>\n",
       "      <td>YES</td>\n",
       "      <td>0</td>\n",
       "      <td>NO</td>\n",
       "      <td>YES</td>\n",
       "      <td>NO</td>\n",
       "      <td>NO</td>\n",
       "      <td>NO</td>\n",
       "      <td>mid-age</td>\n",
       "    </tr>\n",
       "  </tbody>\n",
       "</table>\n",
       "</div>"
      ],
      "text/plain": [
       "        id  age     sex      region   income married  children  car save_act  \\\n",
       "0  ID12101   48  FEMALE  INNER_CITY  17546.0      NO         1   NO       NO   \n",
       "1  ID12102   40    MALE        TOWN  30085.1     YES         3  YES       NO   \n",
       "2  ID12103   51  FEMALE  INNER_CITY  16575.4     YES         0  YES      YES   \n",
       "3  ID12104   23  FEMALE        TOWN  20375.4     YES         3   NO       NO   \n",
       "4  ID12105   57  FEMALE       RURAL  50576.3     YES         0   NO      YES   \n",
       "\n",
       "  current_act mortgage  pep age_series  \n",
       "0          NO       NO  YES    mid-age  \n",
       "1         YES      YES   NO    mid-age  \n",
       "2         YES       NO   NO    mid-age  \n",
       "3         YES       NO   NO      young  \n",
       "4          NO       NO   NO    mid-age  "
      ]
     },
     "execution_count": 29,
     "metadata": {},
     "output_type": "execute_result"
    }
   ],
   "source": [
    "#convert the list of age categories into a series and add it into the dataframe\n",
    "\n",
    "age_series=pd.Series(age_category)\n",
    "df[\"age_series\"]=age_series\n",
    "df.head()"
   ]
  },
  {
   "cell_type": "code",
   "execution_count": 30,
   "metadata": {
    "collapsed": false,
    "scrolled": true
   },
   "outputs": [
    {
     "name": "stdout",
     "output_type": "stream",
     "text": [
      "Summary Stats for Age_Series by Pep\n"
     ]
    },
    {
     "data": {
      "text/plain": [
       "age_series        \n",
       "mid-age     count         367\n",
       "            unique          1\n",
       "            top       mid-age\n",
       "            freq          367\n",
       "old         count          24\n",
       "            unique          1\n",
       "            top           old\n",
       "            freq           24\n",
       "young       count         209\n",
       "            unique          1\n",
       "            top         young\n",
       "            freq          209\n",
       "dtype: object"
      ]
     },
     "execution_count": 30,
     "metadata": {},
     "output_type": "execute_result"
    }
   ],
   "source": [
    "age_groupby = df.groupby('age_series')\n",
    "age_df = age_groupby['age_series'].describe()\n",
    "print(\"Summary Stats for Age_Series by Pep\")\n",
    "age_df.head(20)"
   ]
  },
  {
   "cell_type": "code",
   "execution_count": 31,
   "metadata": {
    "collapsed": false
   },
   "outputs": [
    {
     "name": "stdout",
     "output_type": "stream",
     "text": [
      "There generally appears to be a positive correlation between age and income. Specifically, the correlation  \n",
      "coefficient is 784026447. This makes sense due to people getting raises, gaining experience, etc.\n"
     ]
    },
    {
     "data": {
      "image/png": "[encoded data removed]",
      "text/plain": [
       "<matplotlib.figure.Figure at 0x7f3504d51e10>"
      ]
     },
     "metadata": {},
     "output_type": "display_data"
    }
   ],
   "source": [
    "#Question 4\n",
    "df.plot.scatter(\"age\",\"income\",c=\"Green\")\n",
    "\n",
    "print(\"\"\"There generally appears to be a positive correlation between age and income. Specifically, the correlation  \n",
    "coefficient is %d. This makes sense due to people getting raises, gaining experience, etc.\"\"\") %(np.correlate(df[\"age\"],df[\"income\"]))"
   ]
  },
  {
   "cell_type": "code",
   "execution_count": 32,
   "metadata": {
    "collapsed": false
   },
   "outputs": [
    {
     "data": {
      "image/png": "[encoded data removed]",
      "text/plain": [
       "<matplotlib.figure.Figure at 0x7f3504c8d050>"
      ]
     },
     "metadata": {},
     "output_type": "display_data"
    }
   ],
   "source": [
    "#Question 5\n",
    "x = df['income'][~np.isnan(df['income'])] #remove NAN from array\n",
    "n, bins, patches = plt.hist(x, 9, normed=1, facecolor='green') #create density histogram of income with 9 bins\n",
    "plt.xlabel(\"Income\")\n",
    "plt.ylabel(\"Density\")\n",
    "plt.show()\n"
   ]
  },
  {
   "cell_type": "code",
   "execution_count": 33,
   "metadata": {
    "collapsed": false,
    "scrolled": true
   },
   "outputs": [
    {
     "data": {
      "image/png": "[encoded data removed]",
      "text/plain": [
       "<matplotlib.figure.Figure at 0x7f3504c2a490>"
      ]
     },
     "metadata": {},
     "output_type": "display_data"
    }
   ],
   "source": [
    "x = df['age'][~np.isnan(df['age'])] #remove NAN from array\n",
    "n, bins, patches = plt.hist(x, 30, normed=1, facecolor='green') #create a density histogram of age with 30 bins\n",
    "plt.xlabel(\"Age\")\n",
    "plt.ylabel(\"Density\")\n",
    "plt.show()"
   ]
  }
 ],
 "metadata": {
  "kernelspec": {
   "display_name": "Python 2",
   "language": "python",
   "name": "python2"
  },
  "language_info": {
   "codemirror_mode": {
    "name": "ipython",
    "version": 2
   },
   "file_extension": ".py",
   "mimetype": "text/x-python",
   "name": "python",
   "nbconvert_exporter": "python",
   "pygments_lexer": "ipython2",
   "version": "2.7.6"
  }
 },
 "nbformat": 4,
 "nbformat_minor": 0
}
