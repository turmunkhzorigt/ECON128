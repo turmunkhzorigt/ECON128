{
 "cells": [
  {
   "cell_type": "code",
   "execution_count": 14,
   "metadata": {
    "scrolled": false
   },
   "outputs": [],
   "source": [
    "import pandas as pd\n",
    "\n",
    "dfIRS = pd.read_csv(\"IRS-Tax Filing.txt\", sep = \"\\t\", header = 0)\n",
    "dfZillow = pd.read_csv(\"Zillow-Rents.txt\", sep = \"\\t\", header = 0)\n"
   ]
  },
  {
   "cell_type": "code",
   "execution_count": 16,
   "metadata": {},
   "outputs": [],
   "source": [
    "df = pd.merge(dfZillow, dfIRS, on= \"Zip\")\n",
    "#SQL - left join (data1)"
   ]
  },
  {
   "cell_type": "code",
   "execution_count": 17,
   "metadata": {},
   "outputs": [
    {
     "data": {
      "text/plain": [
       "(15805, 14)"
      ]
     },
     "execution_count": 17,
     "metadata": {},
     "output_type": "execute_result"
    }
   ],
   "source": [
    "df.shape"
   ]
  },
  {
   "cell_type": "code",
   "execution_count": 18,
   "metadata": {
    "scrolled": true
   },
   "outputs": [
    {
     "data": {
      "text/html": [
       "<div>\n",
       "<style>\n",
       "    .dataframe thead tr:only-child th {\n",
       "        text-align: right;\n",
       "    }\n",
       "\n",
       "    .dataframe thead th {\n",
       "        text-align: left;\n",
       "    }\n",
       "\n",
       "    .dataframe tbody tr th {\n",
       "        vertical-align: top;\n",
       "    }\n",
       "</style>\n",
       "<table border=\"1\" class=\"dataframe\">\n",
       "  <thead>\n",
       "    <tr style=\"text-align: right;\">\n",
       "      <th></th>\n",
       "      <th>Zip</th>\n",
       "      <th>State_x</th>\n",
       "      <th>County_x</th>\n",
       "      <th>City_x</th>\n",
       "      <th>ZrentValue_x</th>\n",
       "      <th>State_y</th>\n",
       "      <th>County_y</th>\n",
       "      <th>City_y</th>\n",
       "      <th>ZrentValue_y</th>\n",
       "      <th>NoReturns</th>\n",
       "      <th>SingleReturns</th>\n",
       "      <th>UnempComp</th>\n",
       "      <th>StudentLoanDeductions</th>\n",
       "      <th>TaxableIncome</th>\n",
       "    </tr>\n",
       "  </thead>\n",
       "  <tbody>\n",
       "    <tr>\n",
       "      <th>0</th>\n",
       "      <td>10025</td>\n",
       "      <td>NY</td>\n",
       "      <td>New York</td>\n",
       "      <td>New York</td>\n",
       "      <td>3522</td>\n",
       "      <td>NY</td>\n",
       "      <td>New York</td>\n",
       "      <td>New York</td>\n",
       "      <td>3522</td>\n",
       "      <td>6250</td>\n",
       "      <td>4460</td>\n",
       "      <td>1276</td>\n",
       "      <td>1415</td>\n",
       "      <td>280416</td>\n",
       "    </tr>\n",
       "    <tr>\n",
       "      <th>1</th>\n",
       "      <td>60657</td>\n",
       "      <td>IL</td>\n",
       "      <td>Cook</td>\n",
       "      <td>Chicago</td>\n",
       "      <td>1885</td>\n",
       "      <td>IL</td>\n",
       "      <td>Cook</td>\n",
       "      <td>Chicago</td>\n",
       "      <td>1885</td>\n",
       "      <td>8490</td>\n",
       "      <td>7530</td>\n",
       "      <td>1002</td>\n",
       "      <td>3930</td>\n",
       "      <td>408987</td>\n",
       "    </tr>\n",
       "    <tr>\n",
       "      <th>2</th>\n",
       "      <td>10023</td>\n",
       "      <td>NY</td>\n",
       "      <td>New York</td>\n",
       "      <td>New York</td>\n",
       "      <td>3783</td>\n",
       "      <td>NY</td>\n",
       "      <td>New York</td>\n",
       "      <td>New York</td>\n",
       "      <td>3783</td>\n",
       "      <td>3860</td>\n",
       "      <td>3130</td>\n",
       "      <td>1023</td>\n",
       "      <td>752</td>\n",
       "      <td>173242</td>\n",
       "    </tr>\n",
       "    <tr>\n",
       "      <th>3</th>\n",
       "      <td>60614</td>\n",
       "      <td>IL</td>\n",
       "      <td>Cook</td>\n",
       "      <td>Chicago</td>\n",
       "      <td>2125</td>\n",
       "      <td>IL</td>\n",
       "      <td>Cook</td>\n",
       "      <td>Chicago</td>\n",
       "      <td>2125</td>\n",
       "      <td>6930</td>\n",
       "      <td>6290</td>\n",
       "      <td>752</td>\n",
       "      <td>2903</td>\n",
       "      <td>335742</td>\n",
       "    </tr>\n",
       "    <tr>\n",
       "      <th>4</th>\n",
       "      <td>79936</td>\n",
       "      <td>TX</td>\n",
       "      <td>El Paso</td>\n",
       "      <td>El Paso</td>\n",
       "      <td>992</td>\n",
       "      <td>TX</td>\n",
       "      <td>El Paso</td>\n",
       "      <td>El Paso</td>\n",
       "      <td>992</td>\n",
       "      <td>6280</td>\n",
       "      <td>1670</td>\n",
       "      <td>1428</td>\n",
       "      <td>927</td>\n",
       "      <td>235785</td>\n",
       "    </tr>\n",
       "  </tbody>\n",
       "</table>\n",
       "</div>"
      ],
      "text/plain": [
       "     Zip State_x  County_x    City_x  ZrentValue_x State_y  County_y  \\\n",
       "0  10025      NY  New York  New York          3522      NY  New York   \n",
       "1  60657      IL      Cook   Chicago          1885      IL      Cook   \n",
       "2  10023      NY  New York  New York          3783      NY  New York   \n",
       "3  60614      IL      Cook   Chicago          2125      IL      Cook   \n",
       "4  79936      TX   El Paso   El Paso           992      TX   El Paso   \n",
       "\n",
       "     City_y  ZrentValue_y  NoReturns  SingleReturns  UnempComp  \\\n",
       "0  New York          3522       6250           4460       1276   \n",
       "1   Chicago          1885       8490           7530       1002   \n",
       "2  New York          3783       3860           3130       1023   \n",
       "3   Chicago          2125       6930           6290        752   \n",
       "4   El Paso           992       6280           1670       1428   \n",
       "\n",
       "   StudentLoanDeductions  TaxableIncome  \n",
       "0                   1415         280416  \n",
       "1                   3930         408987  \n",
       "2                    752         173242  \n",
       "3                   2903         335742  \n",
       "4                    927         235785  "
      ]
     },
     "execution_count": 18,
     "metadata": {},
     "output_type": "execute_result"
    }
   ],
   "source": [
    "df.head()"
   ]
  },
  {
   "cell_type": "code",
   "execution_count": 26,
   "metadata": {},
   "outputs": [
    {
     "ename": "IndexError",
     "evalue": "only integers, slices (`:`), ellipsis (`...`), numpy.newaxis (`None`) and integer or boolean arrays are valid indices",
     "output_type": "error",
     "traceback": [
      "\u001b[0;31m---------------------------------------------------------------------------\u001b[0m",
      "\u001b[0;31mIndexError\u001b[0m                                Traceback (most recent call last)",
      "\u001b[0;32m<ipython-input-26-6b85ff7dc2af>\u001b[0m in \u001b[0;36m<module>\u001b[0;34m()\u001b[0m\n\u001b[1;32m      1\u001b[0m \u001b[0mdfTarget\u001b[0m \u001b[0;34m=\u001b[0m \u001b[0mdf\u001b[0m\u001b[0;34m[\u001b[0m\u001b[0;34m\"ZrentValue_x\"\u001b[0m\u001b[0;34m]\u001b[0m\u001b[0;34m\u001b[0m\u001b[0m\n\u001b[0;32m----> 2\u001b[0;31m \u001b[0mdf\u001b[0m \u001b[0;34m=\u001b[0m \u001b[0mdf\u001b[0m\u001b[0;34m.\u001b[0m\u001b[0mdrop\u001b[0m\u001b[0;34m(\u001b[0m\u001b[0mdf\u001b[0m\u001b[0;34m.\u001b[0m\u001b[0mcolumns\u001b[0m\u001b[0;34m[\u001b[0m\u001b[0;34m\"State_x\"\u001b[0m\u001b[0;34m,\u001b[0m\u001b[0;34m\"County_x\"\u001b[0m\u001b[0;34m,\u001b[0m\u001b[0;34m\"City_x\"\u001b[0m\u001b[0;34m,\u001b[0m\u001b[0;34m\"State_y\"\u001b[0m\u001b[0;34m]\u001b[0m \u001b[0;34m,\u001b[0m\u001b[0;36m1\u001b[0m\u001b[0;34m)\u001b[0m\u001b[0;34m\u001b[0m\u001b[0m\n\u001b[0m",
      "\u001b[0;32m~/anaconda/lib/python3.6/site-packages/pandas/core/indexes/base.py\u001b[0m in \u001b[0;36m__getitem__\u001b[0;34m(self, key)\u001b[0m\n\u001b[1;32m   1648\u001b[0m \u001b[0;34m\u001b[0m\u001b[0m\n\u001b[1;32m   1649\u001b[0m         \u001b[0mkey\u001b[0m \u001b[0;34m=\u001b[0m \u001b[0m_values_from_object\u001b[0m\u001b[0;34m(\u001b[0m\u001b[0mkey\u001b[0m\u001b[0;34m)\u001b[0m\u001b[0;34m\u001b[0m\u001b[0m\n\u001b[0;32m-> 1650\u001b[0;31m         \u001b[0mresult\u001b[0m \u001b[0;34m=\u001b[0m \u001b[0mgetitem\u001b[0m\u001b[0;34m(\u001b[0m\u001b[0mkey\u001b[0m\u001b[0;34m)\u001b[0m\u001b[0;34m\u001b[0m\u001b[0m\n\u001b[0m\u001b[1;32m   1651\u001b[0m         \u001b[0;32mif\u001b[0m \u001b[0;32mnot\u001b[0m \u001b[0mis_scalar\u001b[0m\u001b[0;34m(\u001b[0m\u001b[0mresult\u001b[0m\u001b[0;34m)\u001b[0m\u001b[0;34m:\u001b[0m\u001b[0;34m\u001b[0m\u001b[0m\n\u001b[1;32m   1652\u001b[0m             \u001b[0;32mreturn\u001b[0m \u001b[0mpromote\u001b[0m\u001b[0;34m(\u001b[0m\u001b[0mresult\u001b[0m\u001b[0;34m)\u001b[0m\u001b[0;34m\u001b[0m\u001b[0m\n",
      "\u001b[0;31mIndexError\u001b[0m: only integers, slices (`:`), ellipsis (`...`), numpy.newaxis (`None`) and integer or boolean arrays are valid indices"
     ]
    }
   ],
   "source": [
    "dfTarget = df[\"ZrentValue_x\"]\n",
    "df = df.drop(df.columns[\"State_x\",\"County_x\",\"City_x\",\"State_y\"] ,1)"
   ]
  },
  {
   "cell_type": "code",
   "execution_count": null,
   "metadata": {
    "collapsed": true
   },
   "outputs": [],
   "source": [
    "#plot for normal distribution\n"
   ]
  }
 ],
 "metadata": {
  "kernelspec": {
   "display_name": "Python 3",
   "language": "python",
   "name": "python3"
  },
  "language_info": {
   "codemirror_mode": {
    "name": "ipython",
    "version": 3
   },
   "file_extension": ".py",
   "mimetype": "text/x-python",
   "name": "python",
   "nbconvert_exporter": "python",
   "pygments_lexer": "ipython3",
   "version": "3.6.1"
  }
 },
 "nbformat": 4,
 "nbformat_minor": 2
}
