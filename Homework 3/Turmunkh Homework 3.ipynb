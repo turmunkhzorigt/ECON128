{
 "cells": [
  {
   "cell_type": "markdown",
   "metadata": {},
   "source": [
    "## Turmunkh Zorigt ECON128 Problem Set 3\n",
    "\n",
    "## Problem 1\n",
    "### Suppose this sample of firms is an index. Filter the sample to observations that record daily data from 2000-present. Calculate average daily returns for banks during that period. (Hint: first compute daily returns using the closing price for each bank, then take the average for that day). Plot the returns."
   ]
  },
  {
   "cell_type": "code",
   "execution_count": 1,
   "metadata": {
    "collapsed": true
   },
   "outputs": [],
   "source": [
    "from numpy import *\n",
    "import pandas as pd"
   ]
  },
  {
   "cell_type": "code",
   "execution_count": 2,
   "metadata": {
    "collapsed": true
   },
   "outputs": [],
   "source": [
    "#import dataset\n",
    "df = pd.read_csv('bank-stocks-merged.txt', sep ='\\t', header=0)"
   ]
  },
  {
   "cell_type": "code",
   "execution_count": 3,
   "metadata": {},
   "outputs": [
    {
     "data": {
      "text/plain": [
       "(653006, 7)"
      ]
     },
     "execution_count": 3,
     "metadata": {},
     "output_type": "execute_result"
    }
   ],
   "source": [
    "df.shape"
   ]
  },
  {
   "cell_type": "code",
   "execution_count": 4,
   "metadata": {},
   "outputs": [
    {
     "data": {
      "text/html": [
       "<div>\n",
       "<style>\n",
       "    .dataframe thead tr:only-child th {\n",
       "        text-align: right;\n",
       "    }\n",
       "\n",
       "    .dataframe thead th {\n",
       "        text-align: left;\n",
       "    }\n",
       "\n",
       "    .dataframe tbody tr th {\n",
       "        vertical-align: top;\n",
       "    }\n",
       "</style>\n",
       "<table border=\"1\" class=\"dataframe\">\n",
       "  <thead>\n",
       "    <tr style=\"text-align: right;\">\n",
       "      <th></th>\n",
       "      <th>?Date</th>\n",
       "      <th>Ticker</th>\n",
       "      <th>Open</th>\n",
       "      <th>High</th>\n",
       "      <th>Low</th>\n",
       "      <th>Close</th>\n",
       "      <th>Volume</th>\n",
       "    </tr>\n",
       "  </thead>\n",
       "  <tbody>\n",
       "    <tr>\n",
       "      <th>0</th>\n",
       "      <td>5/19/1994</td>\n",
       "      <td>ABCB</td>\n",
       "      <td>5.064261</td>\n",
       "      <td>5.368117</td>\n",
       "      <td>5.064261</td>\n",
       "      <td>5.266831</td>\n",
       "      <td>1347.679366</td>\n",
       "    </tr>\n",
       "    <tr>\n",
       "      <th>1</th>\n",
       "      <td>5/20/1994</td>\n",
       "      <td>ABCB</td>\n",
       "      <td>5.165546</td>\n",
       "      <td>5.368117</td>\n",
       "      <td>5.064261</td>\n",
       "      <td>5.266831</td>\n",
       "      <td>545.489267</td>\n",
       "    </tr>\n",
       "    <tr>\n",
       "      <th>2</th>\n",
       "      <td>5/23/1994</td>\n",
       "      <td>ABCB</td>\n",
       "      <td>5.266831</td>\n",
       "      <td>5.266831</td>\n",
       "      <td>5.064261</td>\n",
       "      <td>5.064261</td>\n",
       "      <td>167.842851</td>\n",
       "    </tr>\n",
       "    <tr>\n",
       "      <th>3</th>\n",
       "      <td>5/24/1994</td>\n",
       "      <td>ABCB</td>\n",
       "      <td>5.266831</td>\n",
       "      <td>5.266831</td>\n",
       "      <td>5.064261</td>\n",
       "      <td>5.064261</td>\n",
       "      <td>78.984871</td>\n",
       "    </tr>\n",
       "    <tr>\n",
       "      <th>4</th>\n",
       "      <td>5/25/1994</td>\n",
       "      <td>ABCB</td>\n",
       "      <td>5.165546</td>\n",
       "      <td>5.165546</td>\n",
       "      <td>5.064261</td>\n",
       "      <td>5.064261</td>\n",
       "      <td>135.755247</td>\n",
       "    </tr>\n",
       "  </tbody>\n",
       "</table>\n",
       "</div>"
      ],
      "text/plain": [
       "       ?Date Ticker      Open      High       Low     Close       Volume\n",
       "0  5/19/1994   ABCB  5.064261  5.368117  5.064261  5.266831  1347.679366\n",
       "1  5/20/1994   ABCB  5.165546  5.368117  5.064261  5.266831   545.489267\n",
       "2  5/23/1994   ABCB  5.266831  5.266831  5.064261  5.064261   167.842851\n",
       "3  5/24/1994   ABCB  5.266831  5.266831  5.064261  5.064261    78.984871\n",
       "4  5/25/1994   ABCB  5.165546  5.165546  5.064261  5.064261   135.755247"
      ]
     },
     "execution_count": 4,
     "metadata": {},
     "output_type": "execute_result"
    }
   ],
   "source": [
    "df.head()"
   ]
  },
  {
   "cell_type": "code",
   "execution_count": 5,
   "metadata": {},
   "outputs": [
    {
     "data": {
      "text/plain": [
       "?Date     0\n",
       "Ticker    0\n",
       "Open      0\n",
       "High      0\n",
       "Low       0\n",
       "Close     0\n",
       "Volume    0\n",
       "dtype: int64"
      ]
     },
     "execution_count": 5,
     "metadata": {},
     "output_type": "execute_result"
    }
   ],
   "source": [
    "#check for missing values\n",
    "df.apply(lambda x: sum(x.isnull()),axis=0)"
   ]
  },
  {
   "cell_type": "code",
   "execution_count": 6,
   "metadata": {},
   "outputs": [
    {
     "data": {
      "text/html": [
       "<div>\n",
       "<style>\n",
       "    .dataframe thead tr:only-child th {\n",
       "        text-align: right;\n",
       "    }\n",
       "\n",
       "    .dataframe thead th {\n",
       "        text-align: left;\n",
       "    }\n",
       "\n",
       "    .dataframe tbody tr th {\n",
       "        vertical-align: top;\n",
       "    }\n",
       "</style>\n",
       "<table border=\"1\" class=\"dataframe\">\n",
       "  <thead>\n",
       "    <tr style=\"text-align: right;\">\n",
       "      <th></th>\n",
       "      <th>Date</th>\n",
       "      <th>Ticker</th>\n",
       "      <th>Open</th>\n",
       "      <th>High</th>\n",
       "      <th>Low</th>\n",
       "      <th>Close</th>\n",
       "      <th>Volume</th>\n",
       "    </tr>\n",
       "  </thead>\n",
       "  <tbody>\n",
       "    <tr>\n",
       "      <th>0</th>\n",
       "      <td>5/19/1994</td>\n",
       "      <td>ABCB</td>\n",
       "      <td>5.064261</td>\n",
       "      <td>5.368117</td>\n",
       "      <td>5.064261</td>\n",
       "      <td>5.266831</td>\n",
       "      <td>1347.679366</td>\n",
       "    </tr>\n",
       "    <tr>\n",
       "      <th>1</th>\n",
       "      <td>5/20/1994</td>\n",
       "      <td>ABCB</td>\n",
       "      <td>5.165546</td>\n",
       "      <td>5.368117</td>\n",
       "      <td>5.064261</td>\n",
       "      <td>5.266831</td>\n",
       "      <td>545.489267</td>\n",
       "    </tr>\n",
       "    <tr>\n",
       "      <th>2</th>\n",
       "      <td>5/23/1994</td>\n",
       "      <td>ABCB</td>\n",
       "      <td>5.266831</td>\n",
       "      <td>5.266831</td>\n",
       "      <td>5.064261</td>\n",
       "      <td>5.064261</td>\n",
       "      <td>167.842851</td>\n",
       "    </tr>\n",
       "    <tr>\n",
       "      <th>3</th>\n",
       "      <td>5/24/1994</td>\n",
       "      <td>ABCB</td>\n",
       "      <td>5.266831</td>\n",
       "      <td>5.266831</td>\n",
       "      <td>5.064261</td>\n",
       "      <td>5.064261</td>\n",
       "      <td>78.984871</td>\n",
       "    </tr>\n",
       "    <tr>\n",
       "      <th>4</th>\n",
       "      <td>5/25/1994</td>\n",
       "      <td>ABCB</td>\n",
       "      <td>5.165546</td>\n",
       "      <td>5.165546</td>\n",
       "      <td>5.064261</td>\n",
       "      <td>5.064261</td>\n",
       "      <td>135.755247</td>\n",
       "    </tr>\n",
       "  </tbody>\n",
       "</table>\n",
       "</div>"
      ],
      "text/plain": [
       "        Date Ticker      Open      High       Low     Close       Volume\n",
       "0  5/19/1994   ABCB  5.064261  5.368117  5.064261  5.266831  1347.679366\n",
       "1  5/20/1994   ABCB  5.165546  5.368117  5.064261  5.266831   545.489267\n",
       "2  5/23/1994   ABCB  5.266831  5.266831  5.064261  5.064261   167.842851\n",
       "3  5/24/1994   ABCB  5.266831  5.266831  5.064261  5.064261    78.984871\n",
       "4  5/25/1994   ABCB  5.165546  5.165546  5.064261  5.064261   135.755247"
      ]
     },
     "execution_count": 6,
     "metadata": {},
     "output_type": "execute_result"
    }
   ],
   "source": [
    "#rename first column\n",
    "df.rename(columns={\"?Date\" : \"Date\"},inplace=True)\n",
    "df.head()"
   ]
  },
  {
   "cell_type": "code",
   "execution_count": 7,
   "metadata": {},
   "outputs": [
    {
     "data": {
      "text/html": [
       "<div>\n",
       "<style>\n",
       "    .dataframe thead tr:only-child th {\n",
       "        text-align: right;\n",
       "    }\n",
       "\n",
       "    .dataframe thead th {\n",
       "        text-align: left;\n",
       "    }\n",
       "\n",
       "    .dataframe tbody tr th {\n",
       "        vertical-align: top;\n",
       "    }\n",
       "</style>\n",
       "<table border=\"1\" class=\"dataframe\">\n",
       "  <thead>\n",
       "    <tr style=\"text-align: right;\">\n",
       "      <th></th>\n",
       "      <th>Date</th>\n",
       "      <th>Ticker</th>\n",
       "      <th>Open</th>\n",
       "      <th>High</th>\n",
       "      <th>Low</th>\n",
       "      <th>Close</th>\n",
       "      <th>Volume</th>\n",
       "    </tr>\n",
       "  </thead>\n",
       "  <tbody>\n",
       "    <tr>\n",
       "      <th>0</th>\n",
       "      <td>5/19/1994</td>\n",
       "      <td>ABCB</td>\n",
       "      <td>5.064261</td>\n",
       "      <td>5.368117</td>\n",
       "      <td>5.064261</td>\n",
       "      <td>5.266831</td>\n",
       "      <td>1347.679366</td>\n",
       "    </tr>\n",
       "    <tr>\n",
       "      <th>1</th>\n",
       "      <td>5/20/1994</td>\n",
       "      <td>ABCB</td>\n",
       "      <td>5.165546</td>\n",
       "      <td>5.368117</td>\n",
       "      <td>5.064261</td>\n",
       "      <td>5.266831</td>\n",
       "      <td>545.489267</td>\n",
       "    </tr>\n",
       "    <tr>\n",
       "      <th>2</th>\n",
       "      <td>5/23/1994</td>\n",
       "      <td>ABCB</td>\n",
       "      <td>5.266831</td>\n",
       "      <td>5.266831</td>\n",
       "      <td>5.064261</td>\n",
       "      <td>5.064261</td>\n",
       "      <td>167.842851</td>\n",
       "    </tr>\n",
       "    <tr>\n",
       "      <th>3</th>\n",
       "      <td>5/24/1994</td>\n",
       "      <td>ABCB</td>\n",
       "      <td>5.266831</td>\n",
       "      <td>5.266831</td>\n",
       "      <td>5.064261</td>\n",
       "      <td>5.064261</td>\n",
       "      <td>78.984871</td>\n",
       "    </tr>\n",
       "    <tr>\n",
       "      <th>4</th>\n",
       "      <td>5/25/1994</td>\n",
       "      <td>ABCB</td>\n",
       "      <td>5.165546</td>\n",
       "      <td>5.165546</td>\n",
       "      <td>5.064261</td>\n",
       "      <td>5.064261</td>\n",
       "      <td>135.755247</td>\n",
       "    </tr>\n",
       "  </tbody>\n",
       "</table>\n",
       "</div>"
      ],
      "text/plain": [
       "        Date Ticker      Open      High       Low     Close       Volume\n",
       "0  5/19/1994   ABCB  5.064261  5.368117  5.064261  5.266831  1347.679366\n",
       "1  5/20/1994   ABCB  5.165546  5.368117  5.064261  5.266831   545.489267\n",
       "2  5/23/1994   ABCB  5.266831  5.266831  5.064261  5.064261   167.842851\n",
       "3  5/24/1994   ABCB  5.266831  5.266831  5.064261  5.064261    78.984871\n",
       "4  5/25/1994   ABCB  5.165546  5.165546  5.064261  5.064261   135.755247"
      ]
     },
     "execution_count": 7,
     "metadata": {},
     "output_type": "execute_result"
    }
   ],
   "source": [
    "#remove Question Marks from Date column\n",
    "newdf = []\n",
    "for entry in df[\"Date\"]:\n",
    "    if entry[0]==\"?\": #search for ? in Date column\n",
    "        entry = entry[1:len(entry)] #remove if found\n",
    "    newdf.append(entry)\n",
    "newdf = pd.Series(newdf) # convert list to series\n",
    "df[\"Date\"] = newdf #replace fixed dates \n",
    "df.head()"
   ]
  },
  {
   "cell_type": "code",
   "execution_count": 8,
   "metadata": {
    "scrolled": true
   },
   "outputs": [
    {
     "data": {
      "text/plain": [
       "Date      datetime64[ns]\n",
       "Ticker            object\n",
       "Open             float64\n",
       "High             float64\n",
       "Low              float64\n",
       "Close            float64\n",
       "Volume           float64\n",
       "dtype: object"
      ]
     },
     "execution_count": 8,
     "metadata": {},
     "output_type": "execute_result"
    }
   ],
   "source": [
    "#convert date column to datetime\n",
    "df[\"Date\"] = pd.to_datetime(df[\"Date\"],format = \"%m/%d/%Y\") \n",
    "df.dtypes"
   ]
  },
  {
   "cell_type": "code",
   "execution_count": 9,
   "metadata": {
    "collapsed": true,
    "scrolled": true
   },
   "outputs": [],
   "source": [
    "from datetime import datetime,date,timedelta \n",
    "\n",
    "df = df.sort_values(by=\"Date\") #sort by date\n",
    "df_original = df #make copy data frame for Problem 2"
   ]
  },
  {
   "cell_type": "code",
   "execution_count": 10,
   "metadata": {},
   "outputs": [
    {
     "data": {
      "text/html": [
       "<div>\n",
       "<style>\n",
       "    .dataframe thead tr:only-child th {\n",
       "        text-align: right;\n",
       "    }\n",
       "\n",
       "    .dataframe thead th {\n",
       "        text-align: left;\n",
       "    }\n",
       "\n",
       "    .dataframe tbody tr th {\n",
       "        vertical-align: top;\n",
       "    }\n",
       "</style>\n",
       "<table border=\"1\" class=\"dataframe\">\n",
       "  <thead>\n",
       "    <tr style=\"text-align: right;\">\n",
       "      <th></th>\n",
       "      <th>Date</th>\n",
       "      <th>Ticker</th>\n",
       "      <th>Open</th>\n",
       "      <th>High</th>\n",
       "      <th>Low</th>\n",
       "      <th>Close</th>\n",
       "      <th>Volume</th>\n",
       "      <th>2000_plus</th>\n",
       "    </tr>\n",
       "  </thead>\n",
       "  <tbody>\n",
       "    <tr>\n",
       "      <th>247518</th>\n",
       "      <td>1803-02-19</td>\n",
       "      <td>ALX2</td>\n",
       "      <td>260.0</td>\n",
       "      <td>260.0</td>\n",
       "      <td>260.0</td>\n",
       "      <td>260.0</td>\n",
       "      <td>0.0</td>\n",
       "      <td>False</td>\n",
       "    </tr>\n",
       "    <tr>\n",
       "      <th>247519</th>\n",
       "      <td>1803-02-26</td>\n",
       "      <td>ALX2</td>\n",
       "      <td>260.0</td>\n",
       "      <td>260.0</td>\n",
       "      <td>260.0</td>\n",
       "      <td>260.0</td>\n",
       "      <td>0.0</td>\n",
       "      <td>False</td>\n",
       "    </tr>\n",
       "    <tr>\n",
       "      <th>247520</th>\n",
       "      <td>1803-03-03</td>\n",
       "      <td>ALX2</td>\n",
       "      <td>260.0</td>\n",
       "      <td>260.0</td>\n",
       "      <td>260.0</td>\n",
       "      <td>260.0</td>\n",
       "      <td>0.0</td>\n",
       "      <td>False</td>\n",
       "    </tr>\n",
       "    <tr>\n",
       "      <th>247521</th>\n",
       "      <td>1803-03-12</td>\n",
       "      <td>ALX2</td>\n",
       "      <td>260.0</td>\n",
       "      <td>260.0</td>\n",
       "      <td>260.0</td>\n",
       "      <td>260.0</td>\n",
       "      <td>0.0</td>\n",
       "      <td>False</td>\n",
       "    </tr>\n",
       "    <tr>\n",
       "      <th>247522</th>\n",
       "      <td>1803-03-19</td>\n",
       "      <td>ALX2</td>\n",
       "      <td>267.0</td>\n",
       "      <td>267.0</td>\n",
       "      <td>267.0</td>\n",
       "      <td>267.0</td>\n",
       "      <td>0.0</td>\n",
       "      <td>False</td>\n",
       "    </tr>\n",
       "  </tbody>\n",
       "</table>\n",
       "</div>"
      ],
      "text/plain": [
       "             Date Ticker   Open   High    Low  Close  Volume  2000_plus\n",
       "247518 1803-02-19   ALX2  260.0  260.0  260.0  260.0     0.0      False\n",
       "247519 1803-02-26   ALX2  260.0  260.0  260.0  260.0     0.0      False\n",
       "247520 1803-03-03   ALX2  260.0  260.0  260.0  260.0     0.0      False\n",
       "247521 1803-03-12   ALX2  260.0  260.0  260.0  260.0     0.0      False\n",
       "247522 1803-03-19   ALX2  267.0  267.0  267.0  267.0     0.0      False"
      ]
     },
     "execution_count": 10,
     "metadata": {},
     "output_type": "execute_result"
    }
   ],
   "source": [
    "#make boolean series on whether year greater than 2000\n",
    "df2=df\n",
    "df2=df2[\"Date\"]>=\"1-1-2000\"\n",
    "df[\"2000_plus\"] = pd.Series(df2)\n",
    "df.head()"
   ]
  },
  {
   "cell_type": "code",
   "execution_count": 11,
   "metadata": {},
   "outputs": [
    {
     "data": {
      "text/html": [
       "<div>\n",
       "<style>\n",
       "    .dataframe thead tr:only-child th {\n",
       "        text-align: right;\n",
       "    }\n",
       "\n",
       "    .dataframe thead th {\n",
       "        text-align: left;\n",
       "    }\n",
       "\n",
       "    .dataframe tbody tr th {\n",
       "        vertical-align: top;\n",
       "    }\n",
       "</style>\n",
       "<table border=\"1\" class=\"dataframe\">\n",
       "  <thead>\n",
       "    <tr style=\"text-align: right;\">\n",
       "      <th></th>\n",
       "      <th>Date</th>\n",
       "      <th>Ticker</th>\n",
       "      <th>Open</th>\n",
       "      <th>High</th>\n",
       "      <th>Low</th>\n",
       "      <th>Close</th>\n",
       "      <th>Volume</th>\n",
       "      <th>2000_plus</th>\n",
       "    </tr>\n",
       "  </thead>\n",
       "  <tbody>\n",
       "    <tr>\n",
       "      <th>561955</th>\n",
       "      <td>2000-01-03</td>\n",
       "      <td>BSF1PRF</td>\n",
       "      <td>22.000000</td>\n",
       "      <td>22.125000</td>\n",
       "      <td>22.000000</td>\n",
       "      <td>22.125000</td>\n",
       "      <td>43.0</td>\n",
       "      <td>True</td>\n",
       "    </tr>\n",
       "    <tr>\n",
       "      <th>455152</th>\n",
       "      <td>2000-01-03</td>\n",
       "      <td>CTDN1</td>\n",
       "      <td>39.187500</td>\n",
       "      <td>39.187500</td>\n",
       "      <td>39.187500</td>\n",
       "      <td>39.187500</td>\n",
       "      <td>0.0</td>\n",
       "      <td>True</td>\n",
       "    </tr>\n",
       "    <tr>\n",
       "      <th>619113</th>\n",
       "      <td>2000-01-03</td>\n",
       "      <td>CCB2</td>\n",
       "      <td>43.625000</td>\n",
       "      <td>43.625000</td>\n",
       "      <td>41.375000</td>\n",
       "      <td>41.437500</td>\n",
       "      <td>1026.0</td>\n",
       "      <td>True</td>\n",
       "    </tr>\n",
       "    <tr>\n",
       "      <th>296738</th>\n",
       "      <td>2000-01-03</td>\n",
       "      <td>BNKA1</td>\n",
       "      <td>12.142857</td>\n",
       "      <td>13.095238</td>\n",
       "      <td>12.142857</td>\n",
       "      <td>12.142857</td>\n",
       "      <td>0.0</td>\n",
       "      <td>True</td>\n",
       "    </tr>\n",
       "    <tr>\n",
       "      <th>247082</th>\n",
       "      <td>2000-01-03</td>\n",
       "      <td>AICA1</td>\n",
       "      <td>18.250000</td>\n",
       "      <td>19.000000</td>\n",
       "      <td>18.250000</td>\n",
       "      <td>18.250000</td>\n",
       "      <td>0.0</td>\n",
       "      <td>True</td>\n",
       "    </tr>\n",
       "  </tbody>\n",
       "</table>\n",
       "</div>"
      ],
      "text/plain": [
       "             Date   Ticker       Open       High        Low      Close  \\\n",
       "561955 2000-01-03  BSF1PRF  22.000000  22.125000  22.000000  22.125000   \n",
       "455152 2000-01-03    CTDN1  39.187500  39.187500  39.187500  39.187500   \n",
       "619113 2000-01-03     CCB2  43.625000  43.625000  41.375000  41.437500   \n",
       "296738 2000-01-03    BNKA1  12.142857  13.095238  12.142857  12.142857   \n",
       "247082 2000-01-03    AICA1  18.250000  19.000000  18.250000  18.250000   \n",
       "\n",
       "        Volume  2000_plus  \n",
       "561955    43.0       True  \n",
       "455152     0.0       True  \n",
       "619113  1026.0       True  \n",
       "296738     0.0       True  \n",
       "247082     0.0       True  "
      ]
     },
     "execution_count": 11,
     "metadata": {},
     "output_type": "execute_result"
    }
   ],
   "source": [
    "#filter by year>2000 and make new dataframe\n",
    "df2000 = df[df[\"2000_plus\"] != False] \n",
    "df2000.head()"
   ]
  },
  {
   "cell_type": "code",
   "execution_count": 12,
   "metadata": {},
   "outputs": [
    {
     "data": {
      "text/plain": [
       "(347098, 8)"
      ]
     },
     "execution_count": 12,
     "metadata": {},
     "output_type": "execute_result"
    }
   ],
   "source": [
    "df2000.shape"
   ]
  },
  {
   "cell_type": "code",
   "execution_count": 13,
   "metadata": {
    "scrolled": true
   },
   "outputs": [
    {
     "data": {
      "text/html": [
       "<div>\n",
       "<style>\n",
       "    .dataframe thead tr:only-child th {\n",
       "        text-align: right;\n",
       "    }\n",
       "\n",
       "    .dataframe thead th {\n",
       "        text-align: left;\n",
       "    }\n",
       "\n",
       "    .dataframe tbody tr th {\n",
       "        vertical-align: top;\n",
       "    }\n",
       "</style>\n",
       "<table border=\"1\" class=\"dataframe\">\n",
       "  <thead>\n",
       "    <tr style=\"text-align: right;\">\n",
       "      <th></th>\n",
       "      <th>Date</th>\n",
       "      <th>Ticker</th>\n",
       "      <th>Open</th>\n",
       "      <th>High</th>\n",
       "      <th>Low</th>\n",
       "      <th>Close</th>\n",
       "      <th>Volume</th>\n",
       "      <th>2000_plus</th>\n",
       "      <th>Return</th>\n",
       "    </tr>\n",
       "  </thead>\n",
       "  <tbody>\n",
       "    <tr>\n",
       "      <th>561955</th>\n",
       "      <td>2000-01-03</td>\n",
       "      <td>BSF1PRF</td>\n",
       "      <td>22.000000</td>\n",
       "      <td>22.125000</td>\n",
       "      <td>22.000000</td>\n",
       "      <td>22.125000</td>\n",
       "      <td>43.0</td>\n",
       "      <td>True</td>\n",
       "      <td>0.00565</td>\n",
       "    </tr>\n",
       "    <tr>\n",
       "      <th>455152</th>\n",
       "      <td>2000-01-03</td>\n",
       "      <td>CTDN1</td>\n",
       "      <td>39.187500</td>\n",
       "      <td>39.187500</td>\n",
       "      <td>39.187500</td>\n",
       "      <td>39.187500</td>\n",
       "      <td>0.0</td>\n",
       "      <td>True</td>\n",
       "      <td>0.00000</td>\n",
       "    </tr>\n",
       "    <tr>\n",
       "      <th>619113</th>\n",
       "      <td>2000-01-03</td>\n",
       "      <td>CCB2</td>\n",
       "      <td>43.625000</td>\n",
       "      <td>43.625000</td>\n",
       "      <td>41.375000</td>\n",
       "      <td>41.437500</td>\n",
       "      <td>1026.0</td>\n",
       "      <td>True</td>\n",
       "      <td>-0.05279</td>\n",
       "    </tr>\n",
       "    <tr>\n",
       "      <th>296738</th>\n",
       "      <td>2000-01-03</td>\n",
       "      <td>BNKA1</td>\n",
       "      <td>12.142857</td>\n",
       "      <td>13.095238</td>\n",
       "      <td>12.142857</td>\n",
       "      <td>12.142857</td>\n",
       "      <td>0.0</td>\n",
       "      <td>True</td>\n",
       "      <td>0.00000</td>\n",
       "    </tr>\n",
       "    <tr>\n",
       "      <th>247082</th>\n",
       "      <td>2000-01-03</td>\n",
       "      <td>AICA1</td>\n",
       "      <td>18.250000</td>\n",
       "      <td>19.000000</td>\n",
       "      <td>18.250000</td>\n",
       "      <td>18.250000</td>\n",
       "      <td>0.0</td>\n",
       "      <td>True</td>\n",
       "      <td>0.00000</td>\n",
       "    </tr>\n",
       "  </tbody>\n",
       "</table>\n",
       "</div>"
      ],
      "text/plain": [
       "             Date   Ticker       Open       High        Low      Close  \\\n",
       "561955 2000-01-03  BSF1PRF  22.000000  22.125000  22.000000  22.125000   \n",
       "455152 2000-01-03    CTDN1  39.187500  39.187500  39.187500  39.187500   \n",
       "619113 2000-01-03     CCB2  43.625000  43.625000  41.375000  41.437500   \n",
       "296738 2000-01-03    BNKA1  12.142857  13.095238  12.142857  12.142857   \n",
       "247082 2000-01-03    AICA1  18.250000  19.000000  18.250000  18.250000   \n",
       "\n",
       "        Volume  2000_plus   Return  \n",
       "561955    43.0       True  0.00565  \n",
       "455152     0.0       True  0.00000  \n",
       "619113  1026.0       True -0.05279  \n",
       "296738     0.0       True  0.00000  \n",
       "247082     0.0       True  0.00000  "
      ]
     },
     "execution_count": 13,
     "metadata": {},
     "output_type": "execute_result"
    }
   ],
   "source": [
    "#find returns for each bank\n",
    "pd.options.mode.chained_assignment = None  # disable SettingWithCopyWarning\n",
    "df2000[\"Return\"] = (df2000[\"Close\"]-df2000[\"Open\"]) / df2000[\"Close\"]\n",
    "df2000.head()"
   ]
  },
  {
   "cell_type": "code",
   "execution_count": 14,
   "metadata": {},
   "outputs": [
    {
     "data": {
      "text/plain": [
       "Date\n",
       "2000-01-03   -0.005455\n",
       "2000-01-04   -0.011031\n",
       "2000-01-05    0.000319\n",
       "2000-01-06    0.000891\n",
       "2000-01-07    0.003488\n",
       "Name: Return, dtype: float64"
      ]
     },
     "execution_count": 14,
     "metadata": {},
     "output_type": "execute_result"
    }
   ],
   "source": [
    "#collapse average Close by Date and Ticker\n",
    "df_group = df2000.groupby([\"Date\", \"Ticker\"]).Return.mean()\n",
    "\n",
    "#collapse average Close by Date to get average return for all banks in one day\n",
    "df_group = df_group.groupby([\"Date\"]).mean()\n",
    "df_group.head()"
   ]
  },
  {
   "cell_type": "code",
   "execution_count": 15,
   "metadata": {
    "scrolled": false
   },
   "outputs": [
    {
     "data": {
      "text/plain": [
       "[<matplotlib.text.Text at 0x114ac03c8>,\n",
       " <matplotlib.text.Text at 0x114a9dcc0>,\n",
       " <matplotlib.text.Text at 0x114ae5be0>]"
      ]
     },
     "execution_count": 15,
     "metadata": {},
     "output_type": "execute_result"
    },
    {
     "data": {
      "image/png": "[encoded data removed]",
      "text/plain": [
       "<matplotlib.figure.Figure at 0x11e540518>"
      ]
     },
     "metadata": {},
     "output_type": "display_data"
    }
   ],
   "source": [
    "import matplotlib.pyplot as plt\n",
    "\n",
    "#import line magic\n",
    "from IPython import get_ipython\n",
    "get_ipython().run_line_magic('matplotlib', 'inline')\n",
    "\n",
    "#plot graph\n",
    "dfplot = df_group.plot(kind=\"Line\", figsize = (20,5), rot = 45, logx=True)#, rotation= \"vertical\")\n",
    "dfplot.set(xlabel = \"Day\",ylabel = \"Average Return\", title = \"Average Return of Banks Per Day After 2000\")"
   ]
  },
  {
   "cell_type": "code",
   "execution_count": 16,
   "metadata": {},
   "outputs": [
    {
     "data": {
      "text/plain": [
       "Date\n",
       "2000-01-03   -0.005455\n",
       "2000-01-04   -0.011031\n",
       "2000-01-05    0.000319\n",
       "2000-01-06    0.000891\n",
       "2000-01-07    0.003488\n",
       "Name: Return, dtype: float64"
      ]
     },
     "execution_count": 16,
     "metadata": {},
     "output_type": "execute_result"
    }
   ],
   "source": [
    "df_group.head()"
   ]
  },
  {
   "cell_type": "markdown",
   "metadata": {
    "collapsed": true
   },
   "source": [
    "# Problem 2\n",
    "### Suppose you are interested in the historical data. Since these data are monthly, calculate average monthly returns for banks from 1940-present. (Hint: use closing prices at the end of each month). Plot the returns.\n"
   ]
  },
  {
   "cell_type": "code",
   "execution_count": 17,
   "metadata": {},
   "outputs": [
    {
     "data": {
      "text/html": [
       "<div>\n",
       "<style>\n",
       "    .dataframe thead tr:only-child th {\n",
       "        text-align: right;\n",
       "    }\n",
       "\n",
       "    .dataframe thead th {\n",
       "        text-align: left;\n",
       "    }\n",
       "\n",
       "    .dataframe tbody tr th {\n",
       "        vertical-align: top;\n",
       "    }\n",
       "</style>\n",
       "<table border=\"1\" class=\"dataframe\">\n",
       "  <thead>\n",
       "    <tr style=\"text-align: right;\">\n",
       "      <th></th>\n",
       "      <th>Date</th>\n",
       "      <th>Ticker</th>\n",
       "      <th>Open</th>\n",
       "      <th>High</th>\n",
       "      <th>Low</th>\n",
       "      <th>Close</th>\n",
       "      <th>Volume</th>\n",
       "      <th>2000_plus</th>\n",
       "      <th>1940_plus</th>\n",
       "    </tr>\n",
       "  </thead>\n",
       "  <tbody>\n",
       "    <tr>\n",
       "      <th>247518</th>\n",
       "      <td>1803-02-19</td>\n",
       "      <td>ALX2</td>\n",
       "      <td>260.0</td>\n",
       "      <td>260.0</td>\n",
       "      <td>260.0</td>\n",
       "      <td>260.0</td>\n",
       "      <td>0.0</td>\n",
       "      <td>False</td>\n",
       "      <td>False</td>\n",
       "    </tr>\n",
       "    <tr>\n",
       "      <th>247519</th>\n",
       "      <td>1803-02-26</td>\n",
       "      <td>ALX2</td>\n",
       "      <td>260.0</td>\n",
       "      <td>260.0</td>\n",
       "      <td>260.0</td>\n",
       "      <td>260.0</td>\n",
       "      <td>0.0</td>\n",
       "      <td>False</td>\n",
       "      <td>False</td>\n",
       "    </tr>\n",
       "    <tr>\n",
       "      <th>247520</th>\n",
       "      <td>1803-03-03</td>\n",
       "      <td>ALX2</td>\n",
       "      <td>260.0</td>\n",
       "      <td>260.0</td>\n",
       "      <td>260.0</td>\n",
       "      <td>260.0</td>\n",
       "      <td>0.0</td>\n",
       "      <td>False</td>\n",
       "      <td>False</td>\n",
       "    </tr>\n",
       "    <tr>\n",
       "      <th>247521</th>\n",
       "      <td>1803-03-12</td>\n",
       "      <td>ALX2</td>\n",
       "      <td>260.0</td>\n",
       "      <td>260.0</td>\n",
       "      <td>260.0</td>\n",
       "      <td>260.0</td>\n",
       "      <td>0.0</td>\n",
       "      <td>False</td>\n",
       "      <td>False</td>\n",
       "    </tr>\n",
       "    <tr>\n",
       "      <th>247522</th>\n",
       "      <td>1803-03-19</td>\n",
       "      <td>ALX2</td>\n",
       "      <td>267.0</td>\n",
       "      <td>267.0</td>\n",
       "      <td>267.0</td>\n",
       "      <td>267.0</td>\n",
       "      <td>0.0</td>\n",
       "      <td>False</td>\n",
       "      <td>False</td>\n",
       "    </tr>\n",
       "  </tbody>\n",
       "</table>\n",
       "</div>"
      ],
      "text/plain": [
       "             Date Ticker   Open   High    Low  Close  Volume  2000_plus  \\\n",
       "247518 1803-02-19   ALX2  260.0  260.0  260.0  260.0     0.0      False   \n",
       "247519 1803-02-26   ALX2  260.0  260.0  260.0  260.0     0.0      False   \n",
       "247520 1803-03-03   ALX2  260.0  260.0  260.0  260.0     0.0      False   \n",
       "247521 1803-03-12   ALX2  260.0  260.0  260.0  260.0     0.0      False   \n",
       "247522 1803-03-19   ALX2  267.0  267.0  267.0  267.0     0.0      False   \n",
       "\n",
       "        1940_plus  \n",
       "247518      False  \n",
       "247519      False  \n",
       "247520      False  \n",
       "247521      False  \n",
       "247522      False  "
      ]
     },
     "execution_count": 17,
     "metadata": {},
     "output_type": "execute_result"
    }
   ],
   "source": [
    "#make boolean series on whether year greater than 1940\n",
    "df2 = df_original\n",
    "datelist= df2[\"Date\"]>=\"1-1-1940\"\n",
    "df2[\"1940_plus\"] = pd.Series(datelist) #insert it into df\n",
    "df2.head()"
   ]
  },
  {
   "cell_type": "code",
   "execution_count": 18,
   "metadata": {},
   "outputs": [
    {
     "data": {
      "text/html": [
       "<div>\n",
       "<style>\n",
       "    .dataframe thead tr:only-child th {\n",
       "        text-align: right;\n",
       "    }\n",
       "\n",
       "    .dataframe thead th {\n",
       "        text-align: left;\n",
       "    }\n",
       "\n",
       "    .dataframe tbody tr th {\n",
       "        vertical-align: top;\n",
       "    }\n",
       "</style>\n",
       "<table border=\"1\" class=\"dataframe\">\n",
       "  <thead>\n",
       "    <tr style=\"text-align: right;\">\n",
       "      <th></th>\n",
       "      <th>Date</th>\n",
       "      <th>Ticker</th>\n",
       "      <th>Open</th>\n",
       "      <th>High</th>\n",
       "      <th>Low</th>\n",
       "      <th>Close</th>\n",
       "      <th>Volume</th>\n",
       "      <th>2000_plus</th>\n",
       "      <th>1940_plus</th>\n",
       "    </tr>\n",
       "  </thead>\n",
       "  <tbody>\n",
       "    <tr>\n",
       "      <th>7217</th>\n",
       "      <td>1940-01-31</td>\n",
       "      <td>ANAC1</td>\n",
       "      <td>160.000000</td>\n",
       "      <td>160.000000</td>\n",
       "      <td>160.000000</td>\n",
       "      <td>160.000000</td>\n",
       "      <td>0.0</td>\n",
       "      <td>False</td>\n",
       "      <td>True</td>\n",
       "    </tr>\n",
       "    <tr>\n",
       "      <th>300084</th>\n",
       "      <td>1940-01-31</td>\n",
       "      <td>BOKC1</td>\n",
       "      <td>4.750000</td>\n",
       "      <td>5.000000</td>\n",
       "      <td>4.500000</td>\n",
       "      <td>4.750000</td>\n",
       "      <td>0.0</td>\n",
       "      <td>False</td>\n",
       "      <td>True</td>\n",
       "    </tr>\n",
       "    <tr>\n",
       "      <th>639448</th>\n",
       "      <td>1940-01-31</td>\n",
       "      <td>CLVB1</td>\n",
       "      <td>75.000000</td>\n",
       "      <td>75.000000</td>\n",
       "      <td>75.000000</td>\n",
       "      <td>75.000000</td>\n",
       "      <td>0.0</td>\n",
       "      <td>False</td>\n",
       "      <td>True</td>\n",
       "    </tr>\n",
       "    <tr>\n",
       "      <th>605699</th>\n",
       "      <td>1940-01-31</td>\n",
       "      <td>CBCT1</td>\n",
       "      <td>103.703704</td>\n",
       "      <td>103.703704</td>\n",
       "      <td>103.703704</td>\n",
       "      <td>103.703704</td>\n",
       "      <td>0.0</td>\n",
       "      <td>False</td>\n",
       "      <td>True</td>\n",
       "    </tr>\n",
       "    <tr>\n",
       "      <th>371950</th>\n",
       "      <td>1940-01-31</td>\n",
       "      <td>CNJK1</td>\n",
       "      <td>70.000000</td>\n",
       "      <td>75.000000</td>\n",
       "      <td>65.000000</td>\n",
       "      <td>70.000000</td>\n",
       "      <td>0.0</td>\n",
       "      <td>False</td>\n",
       "      <td>True</td>\n",
       "    </tr>\n",
       "  </tbody>\n",
       "</table>\n",
       "</div>"
      ],
      "text/plain": [
       "             Date Ticker        Open        High         Low       Close  \\\n",
       "7217   1940-01-31  ANAC1  160.000000  160.000000  160.000000  160.000000   \n",
       "300084 1940-01-31  BOKC1    4.750000    5.000000    4.500000    4.750000   \n",
       "639448 1940-01-31  CLVB1   75.000000   75.000000   75.000000   75.000000   \n",
       "605699 1940-01-31  CBCT1  103.703704  103.703704  103.703704  103.703704   \n",
       "371950 1940-01-31  CNJK1   70.000000   75.000000   65.000000   70.000000   \n",
       "\n",
       "        Volume  2000_plus  1940_plus  \n",
       "7217       0.0      False       True  \n",
       "300084     0.0      False       True  \n",
       "639448     0.0      False       True  \n",
       "605699     0.0      False       True  \n",
       "371950     0.0      False       True  "
      ]
     },
     "execution_count": 18,
     "metadata": {},
     "output_type": "execute_result"
    }
   ],
   "source": [
    "df1940 = df[df[\"1940_plus\"] != False] #filter by year>1940 and make new dataframe\n",
    "df1940.head()"
   ]
  },
  {
   "cell_type": "code",
   "execution_count": 25,
   "metadata": {
    "scrolled": true
   },
   "outputs": [
    {
     "data": {
      "text/plain": [
       "dtype('float64')"
      ]
     },
     "execution_count": 25,
     "metadata": {},
     "output_type": "execute_result"
    }
   ],
   "source": [
    "import datetime as dt\n",
    "\n",
    "# Create month-year pairs by collapsing datetime series by month\n",
    "df1940['month_year'] = df1940.Date.dt.to_period('M')\n",
    "df1940.head()\n"
   ]
  },
  {
   "cell_type": "code",
   "execution_count": 20,
   "metadata": {
    "scrolled": true
   },
   "outputs": [
    {
     "data": {
      "text/plain": [
       "month_year\n",
       "1940-01    0.000494\n",
       "1940-02   -0.003138\n",
       "1940-03    0.002901\n",
       "1940-04    0.001301\n",
       "1940-05   -0.014550\n",
       "Freq: M, Name: Return, dtype: float64"
      ]
     },
     "execution_count": 20,
     "metadata": {},
     "output_type": "execute_result"
    }
   ],
   "source": [
    "df1940[\"Return\"] = (df1940[\"Close\"]-df1940[\"Open\"]) / df1940[\"Close\"] #calculate Returns\n",
    "df1940 = df1940.groupby([\"month_year\"]).Return.mean() #take average of bank's returns, collapse by month-year pairs\n",
    "df1940.head()"
   ]
  },
  {
   "cell_type": "code",
   "execution_count": 21,
   "metadata": {},
   "outputs": [
    {
     "data": {
      "text/plain": [
       "[<matplotlib.text.Text at 0x114b82a20>,\n",
       " <matplotlib.text.Text at 0x11e58de48>,\n",
       " <matplotlib.text.Text at 0x11d3bbe48>]"
      ]
     },
     "execution_count": 21,
     "metadata": {},
     "output_type": "execute_result"
    },
    {
     "data": {
      "image/png": "[encoded data removed]",
      "text/plain": [
       "<matplotlib.figure.Figure at 0x1147cb240>"
      ]
     },
     "metadata": {},
     "output_type": "display_data"
    }
   ],
   "source": [
    "dfplot = df1940.plot() #plot returns\n",
    "dfplot.set(xlabel = \"Month\", ylabel = \"Average Return\", title = \"Avg. Return of Banks Per Month After 1940\")\n",
    "\n",
    "#the graph has dips where there have been recessions, which is correlated with stock market crashes.\n",
    "#notable ones include the Great Depression in 1940s, the Dot Com Bubble in 2000, and the Great Recession in 2008"
   ]
  }
 ],
 "metadata": {
  "kernelspec": {
   "display_name": "Python 3",
   "language": "python",
   "name": "python3"
  },
  "language_info": {
   "codemirror_mode": {
    "name": "ipython",
    "version": 3
   },
   "file_extension": ".py",
   "mimetype": "text/x-python",
   "name": "python",
   "nbconvert_exporter": "python",
   "pygments_lexer": "ipython3",
   "version": "3.6.1"
  }
 },
 "nbformat": 4,
 "nbformat_minor": 2
}
